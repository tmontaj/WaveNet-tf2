{
  "nbformat": 4,
  "nbformat_minor": 0,
  "metadata": {
    "colab": {
      "name": "Testing wavenet.ipynb",
      "provenance": [],
      "collapsed_sections": [],
      "toc_visible": true,
      "authorship_tag": "ABX9TyNUU8ouGuEns64z9ROi3G3m",
      "include_colab_link": true
    },
    "kernelspec": {
      "name": "python3",
      "display_name": "Python 3"
    }
  },
  "cells": [
    {
      "cell_type": "markdown",
      "metadata": {
        "id": "view-in-github",
        "colab_type": "text"
      },
      "source": [
        "<a href=\"https://colab.research.google.com/github/tmontaj/WaveNet-tf2/blob/master/model/Testing_wavenet.ipynb\" target=\"_parent\"><img src=\"https://colab.research.google.com/assets/colab-badge.svg\" alt=\"Open In Colab\"/></a>"
      ]
    },
    {
      "cell_type": "code",
      "metadata": {
        "id": "etO-w6clSRTJ"
      },
      "source": [
        "import tensorflow as tf\r\n",
        "import numpy as np\r\n",
        "import argparse\r\n",
        "\r\n",
        "\r\n",
        "from wavenet import WaveNet\r\n",
        "from utils import load_wav, normalize, melspectrogram, inv_mulaw_quantize, save_wav\r\n",
        "from module import CrossEntropyLoss\r\n",
        "import hparams"
      ],
      "execution_count": 53,
      "outputs": []
    },
    {
      "cell_type": "code",
      "metadata": {
        "id": "j60TuARPYUm6"
      },
      "source": [
        "loss_fn = CrossEntropyLoss(num_classes=256)\r\n",
        "\r\n",
        "optimizer = tf.keras.optimizers.Adam(learning_rate=0.0009,\r\n",
        "                                         beta_1=hparams.beta_1)\r\n",
        "\r\n",
        "wavenet = WaveNet(hparams.num_mels, hparams.upsample_scales)\r\n",
        "wavenet.compile(optimizer=optimizer, loss= loss_fn )"
      ],
      "execution_count": 56,
      "outputs": []
    },
    {
      "cell_type": "code",
      "metadata": {
        "id": "8IkNpm-CTWcW"
      },
      "source": [
        "def Test(mel_sp, save_path):\r\n",
        "    wavenet = WaveNet(hparams.num_mels, hparams.upsample_scales)\r\n",
        "    mel_sp = tf.expand_dims(mel_sp, axis=0)\r\n",
        "   \r\n",
        "\r\n",
        "    outputs = wavenet.synthesis(mel_sp)\r\n",
        "    outputs = np.squeeze(outputs)\r\n",
        "    outputs = inv_mulaw_quantize(outputs)\r\n",
        "\r\n",
        "    save_wav(outputs, save_path, hparams.sampling_rate)\r\n"
      ],
      "execution_count": 48,
      "outputs": []
    },
    {
      "cell_type": "code",
      "metadata": {
        "id": "iUTy9uBeTncY"
      },
      "source": [
        "wav = load_wav(\"/content/Hol_before.wav\", hparams.sampling_rate)\r\n",
        "wav = normalize(wav) * 0.95\r\n",
        "\r\n",
        "mel_sp = melspectrogram(wav, hparams.sampling_rate, hparams.num_mels,\r\n",
        "                            n_fft=hparams.n_fft, hop_size=hparams.hop_size, win_size=hparams.win_size)\r\n",
        "\r\n",
        "#Test(mel_sp, \"/content\")"
      ],
      "execution_count": 57,
      "outputs": []
    },
    {
      "cell_type": "code",
      "metadata": {
        "colab": {
          "base_uri": "https://localhost:8080/",
          "height": 340
        },
        "id": "l3H5fM1SUaln",
        "outputId": "24839d9d-dbb4-4f51-fa60-840078a1ffcb"
      },
      "source": [
        "mel_sp = tf.expand_dims(mel_sp, axis=0)\r\n",
        "wavenet.predict_on_batch(mel_sp)"
      ],
      "execution_count": 63,
      "outputs": [
        {
          "output_type": "error",
          "ename": "ValueError",
          "evalue": "ignored",
          "traceback": [
            "\u001b[0;31m---------------------------------------------------------------------------\u001b[0m",
            "\u001b[0;31mValueError\u001b[0m                                Traceback (most recent call last)",
            "\u001b[0;32m<ipython-input-63-0a1b8f5c68c5>\u001b[0m in \u001b[0;36m<module>\u001b[0;34m()\u001b[0m\n\u001b[1;32m      1\u001b[0m \u001b[0mmel_sp\u001b[0m \u001b[0;34m=\u001b[0m \u001b[0mtf\u001b[0m\u001b[0;34m.\u001b[0m\u001b[0mexpand_dims\u001b[0m\u001b[0;34m(\u001b[0m\u001b[0mmel_sp\u001b[0m\u001b[0;34m,\u001b[0m \u001b[0maxis\u001b[0m\u001b[0;34m=\u001b[0m\u001b[0;36m0\u001b[0m\u001b[0;34m)\u001b[0m\u001b[0;34m\u001b[0m\u001b[0;34m\u001b[0m\u001b[0m\n\u001b[0;32m----> 2\u001b[0;31m \u001b[0mwavenet\u001b[0m\u001b[0;34m.\u001b[0m\u001b[0mpredict_on_batch\u001b[0m\u001b[0;34m(\u001b[0m\u001b[0mmel_sp\u001b[0m\u001b[0;34m)\u001b[0m\u001b[0;34m\u001b[0m\u001b[0;34m\u001b[0m\u001b[0m\n\u001b[0m",
            "\u001b[0;32m/usr/local/lib/python3.6/dist-packages/tensorflow/python/keras/engine/training.py\u001b[0m in \u001b[0;36mpredict_on_batch\u001b[0;34m(self, x)\u001b[0m\n\u001b[1;32m   1813\u001b[0m           \u001b[0mexpectations\u001b[0m \u001b[0mof\u001b[0m \u001b[0mthe\u001b[0m \u001b[0mmodel\u001b[0m\u001b[0;34m.\u001b[0m\u001b[0;34m\u001b[0m\u001b[0;34m\u001b[0m\u001b[0m\n\u001b[1;32m   1814\u001b[0m     \"\"\"\n\u001b[0;32m-> 1815\u001b[0;31m     \u001b[0mself\u001b[0m\u001b[0;34m.\u001b[0m\u001b[0m_check_call_args\u001b[0m\u001b[0;34m(\u001b[0m\u001b[0;34m'predict_on_batch'\u001b[0m\u001b[0;34m)\u001b[0m\u001b[0;34m\u001b[0m\u001b[0;34m\u001b[0m\u001b[0m\n\u001b[0m\u001b[1;32m   1816\u001b[0m     \u001b[0m_disallow_inside_tf_function\u001b[0m\u001b[0;34m(\u001b[0m\u001b[0;34m'predict_on_batch'\u001b[0m\u001b[0;34m)\u001b[0m\u001b[0;34m\u001b[0m\u001b[0;34m\u001b[0m\u001b[0m\n\u001b[1;32m   1817\u001b[0m     \u001b[0;32mwith\u001b[0m \u001b[0mself\u001b[0m\u001b[0;34m.\u001b[0m\u001b[0mdistribute_strategy\u001b[0m\u001b[0;34m.\u001b[0m\u001b[0mscope\u001b[0m\u001b[0;34m(\u001b[0m\u001b[0;34m)\u001b[0m\u001b[0;34m:\u001b[0m\u001b[0;34m\u001b[0m\u001b[0;34m\u001b[0m\u001b[0m\n",
            "\u001b[0;32m/usr/local/lib/python3.6/dist-packages/tensorflow/python/keras/engine/training.py\u001b[0m in \u001b[0;36m_check_call_args\u001b[0;34m(self, method_name)\u001b[0m\n\u001b[1;32m   2493\u001b[0m           \u001b[0;34m'Models passed to `'\u001b[0m \u001b[0;34m+\u001b[0m \u001b[0mmethod_name\u001b[0m \u001b[0;34m+\u001b[0m \u001b[0;34m'` can only have `training` '\u001b[0m\u001b[0;34m\u001b[0m\u001b[0;34m\u001b[0m\u001b[0m\n\u001b[1;32m   2494\u001b[0m           \u001b[0;34m'and the first argument in `call` as positional arguments, '\u001b[0m\u001b[0;34m\u001b[0m\u001b[0;34m\u001b[0m\u001b[0m\n\u001b[0;32m-> 2495\u001b[0;31m           'found: ' + str(extra_args) + '.')\n\u001b[0m\u001b[1;32m   2496\u001b[0m \u001b[0;34m\u001b[0m\u001b[0m\n\u001b[1;32m   2497\u001b[0m   \u001b[0;32mdef\u001b[0m \u001b[0m_validate_compile\u001b[0m\u001b[0;34m(\u001b[0m\u001b[0mself\u001b[0m\u001b[0;34m,\u001b[0m \u001b[0moptimizer\u001b[0m\u001b[0;34m,\u001b[0m \u001b[0mmetrics\u001b[0m\u001b[0;34m,\u001b[0m \u001b[0;34m**\u001b[0m\u001b[0mkwargs\u001b[0m\u001b[0;34m)\u001b[0m\u001b[0;34m:\u001b[0m\u001b[0;34m\u001b[0m\u001b[0;34m\u001b[0m\u001b[0m\n",
            "\u001b[0;31mValueError\u001b[0m: Models passed to `predict_on_batch` can only have `training` and the first argument in `call` as positional arguments, found: ['c']."
          ]
        }
      ]
    },
    {
      "cell_type": "code",
      "metadata": {
        "id": "ne8jkunOgm5O"
      },
      "source": [
        ""
      ],
      "execution_count": null,
      "outputs": []
    }
  ]
}